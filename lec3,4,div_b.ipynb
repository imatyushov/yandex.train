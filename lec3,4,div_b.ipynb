{
  "nbformat": 4,
  "nbformat_minor": 0,
  "metadata": {
    "colab": {
      "name": "lec3,4,div.b.ipynb",
      "provenance": [],
      "authorship_tag": "ABX9TyOG/EHv8Yi9pqx7yvOQ80fp"
    },
    "kernelspec": {
      "name": "python3",
      "display_name": "Python 3"
    },
    "language_info": {
      "name": "python"
    }
  },
  "cells": [
    {
      "cell_type": "markdown",
      "metadata": {
        "id": "YoBVO0IU2C46"
      },
      "source": [
        "Август и Беатриса играют в игру. Август загадал натуральное число от 1 до n. Беатриса пытается угадать это число, для этого она называет некоторые множества натуральных чисел. Август отвечает Беатрисе YES, если среди названных ей чисел есть задуманное или NO в противном случае. После нескольких заданных вопросов Беатриса запуталась в том, какие вопросы она задавала и какие ответы получила и просит вас помочь ей определить, какие числа мог задумать Август.\n",
        "\n"
      ]
    },
    {
      "cell_type": "code",
      "metadata": {
        "colab": {
          "base_uri": "https://localhost:8080/"
        },
        "id": "bvdW_ba_pPcX",
        "outputId": "c4313887-c272-40fd-e2b9-f15b8f8f9ac8"
      },
      "source": [
        "n = int(input())\n",
        "possible = set(range(1, n + 1))\n",
        "s = input().strip()\n",
        "while s != 'HELP':\n",
        "  nums = set(map(int, s.split()))\n",
        "  s = input().strip()\n",
        "  if s == 'YES':\n",
        "    possible.intersection_update(nums)\n",
        "  else:\n",
        "    possible.difference_update(nums)\n",
        "  s = input().strip()\n",
        "print(*sorted(possible))"
      ],
      "execution_count": 17,
      "outputs": [
        {
          "output_type": "stream",
          "name": "stdout",
          "text": [
            "10\n",
            "1 2 3 4 5\n",
            "YES\n",
            "1 3 5 7 9 \n",
            "NO\n",
            "HELP\n",
            "2 4\n"
          ]
        }
      ]
    },
    {
      "cell_type": "code",
      "metadata": {
        "colab": {
          "base_uri": "https://localhost:8080/"
        },
        "id": "5r4LCG6du6Ur",
        "outputId": "0752d8e7-e523-4d4f-a806-871da506328f"
      },
      "source": [
        "(map(int, input().split()))"
      ],
      "execution_count": 7,
      "outputs": [
        {
          "name": "stdout",
          "output_type": "stream",
          "text": [
            "10\n"
          ]
        },
        {
          "output_type": "execute_result",
          "data": {
            "text/plain": [
              "[10]"
            ]
          },
          "metadata": {},
          "execution_count": 7
        }
      ]
    },
    {
      "cell_type": "code",
      "metadata": {
        "id": "iedYLMA9v8Iu"
      },
      "source": [
        "?? set"
      ],
      "execution_count": 8,
      "outputs": []
    },
    {
      "cell_type": "markdown",
      "metadata": {
        "id": "lHg0OHzw20EW"
      },
      "source": [
        "Неизвестный водитель совершил ДТП и скрылся с места происшествия. Полиция опрашивает свидетелей. Каждый из них говорит, что запомнил какие-то буквы и цифры номера. Но при этом свидетели не помнят порядок этих цифр и букв. Полиция хочет проверить несколько подозреваемых автомобилей. Будем говорить, что номер согласуется с показанием свидетеля, если все символы, которые назвал свидетель, присутствуют в этом номере (не важно, сколько раз).\n",
        "\n"
      ]
    },
    {
      "cell_type": "code",
      "metadata": {
        "id": "4etFzYBF2zM6"
      },
      "source": [
        "m = int(input())\n",
        "wits = []\n",
        "for _ in range(m):\n",
        "  wits.append(set(input().strip()))\n",
        "n = int(input())\n",
        "nums = []\n",
        "maxwwithcnt = 0 \n",
        "for i in range(n):\n",
        "  num = input().strip()\n",
        "  numset = set(num)\n",
        "  withcnt = 0\n",
        "  for wit in wits:\n",
        "    if wit <= numset:\n",
        "      withcnt += 1\n",
        "      nums.append((num, withcnt))\n",
        "      maxwwithcnt = max(maxwwithcnt, withcnt)\n",
        "ans = []\n",
        "for num in nums:\n",
        "  if num[1] == maxwwithcnt:\n",
        "    ans.append(nums[0])\n",
        "print('\\n'.join(ans))"
      ],
      "execution_count": null,
      "outputs": []
    },
    {
      "cell_type": "code",
      "metadata": {
        "id": "zpIV7_sS9qOP"
      },
      "source": [
        ""
      ],
      "execution_count": null,
      "outputs": []
    }
  ]
}