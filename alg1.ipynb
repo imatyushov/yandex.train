{
 "cells": [
  {
   "cell_type": "code",
   "execution_count": null,
   "id": "6bb36c4e",
   "metadata": {},
   "outputs": [],
   "source": [
    "s = input()\n",
    "print(max(map(lambda x: (s.count(x), x), s)) [1])"
   ]
  },
  {
   "cell_type": "code",
   "execution_count": null,
   "id": "e0c7fa7b",
   "metadata": {},
   "outputs": [],
   "source": [
    "s = input()\n",
    "ans = ''\n",
    "anscnt = 0\n",
    "for i in range(len(s)):\n",
    "    nowcnt = 0\n",
    "for j in range(len(s)):\n",
    "    if s[i] == s[j]:\n",
    "        nowcnt += 1\n",
    "if nowcnt > anscnt:\n",
    "    ans = s[i]\n",
    "    anscnt = nowcnt\n",
    "print(ans)\n",
    "\n",
    "    "
   ]
  },
  {
   "cell_type": "code",
   "execution_count": null,
   "id": "618fcd87",
   "metadata": {},
   "outputs": [],
   "source": [
    "seq = list(map(int, input(.split())))"
   ]
  },
  {
   "cell_type": "markdown",
   "id": "55c85051",
   "metadata": {},
   "source": []
  }
 ],
 "metadata": {
  "kernelspec": {
   "display_name": "Python 3",
   "language": "python",
   "name": "python3"
  },
  "language_info": {
   "codemirror_mode": {
    "name": "ipython",
    "version": 3
   },
   "file_extension": ".py",
   "mimetype": "text/x-python",
   "name": "python",
   "nbconvert_exporter": "python",
   "pygments_lexer": "ipython3",
   "version": "3.8.8"
  }
 },
 "nbformat": 4,
 "nbformat_minor": 5
}
