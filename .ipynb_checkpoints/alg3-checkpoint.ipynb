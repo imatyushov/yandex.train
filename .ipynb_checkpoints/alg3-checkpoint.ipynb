{
 "cells": [
  {
   "cell_type": "code",
   "execution_count": 1,
   "id": "85c84bd0",
   "metadata": {},
   "outputs": [
    {
     "data": {
      "text/plain": [
       "7"
      ]
     },
     "execution_count": 1,
     "metadata": {},
     "output_type": "execute_result"
    }
   ],
   "source": [
    "27 % 10"
   ]
  },
  {
   "cell_type": "code",
   "execution_count": 2,
   "id": "68725a58",
   "metadata": {},
   "outputs": [
    {
     "data": {
      "text/plain": [
       "7"
      ]
     },
     "execution_count": 2,
     "metadata": {},
     "output_type": "execute_result"
    }
   ],
   "source": [
    "137 % 10"
   ]
  },
  {
   "cell_type": "markdown",
   "id": "8952bf6d",
   "metadata": {},
   "source": [
    "Наше собственное (мульти) множество"
   ]
  },
  {
   "cell_type": "code",
   "execution_count": 7,
   "id": "657bcde7",
   "metadata": {},
   "outputs": [],
   "source": [
    "setsize = 10\n",
    "myset = [[] for _ in range(setsize)]\n",
    "\n",
    "def add(x):\n",
    "    myset[x % setsize].append(x)\n",
    "\n",
    "def find(x):\n",
    "    for now in range[x % setsize]:\n",
    "        if now == x:\n",
    "            return True\n",
    "    return False\n",
    "\n",
    "def delete(x):\n",
    "    xlist = myset[x % setsize]\n",
    "    for i in range(len(xlist)):\n",
    "        if xlist[i] == x:\n",
    "            xlist[i], xlist[len(xlist) - 1] = xlist[len(xlist) - 1], xlist[i]\n",
    "            xlist.pop()\n",
    "            return"
   ]
  },
  {
   "cell_type": "markdown",
   "id": "8fbff276",
   "metadata": {},
   "source": [
    "F(x) = X % setsize -  хеш - функция \n",
    "\n",
    "myset(список списков) - хеш - таблица\n",
    "\n",
    "совпадение значения хеш - функции для разных параметров - коллизия"
   ]
  },
  {
   "cell_type": "markdown",
   "id": "8611ffee",
   "metadata": {},
   "source": [
    "    Есть последовательность n положительных чисел. найдите числа A, B , такие что A+B= X , или сказать что таких нет\n",
    "   "
   ]
  },
  {
   "cell_type": "code",
   "execution_count": 13,
   "id": "4490286b",
   "metadata": {},
   "outputs": [],
   "source": [
    "def twotermswithsumx(nums, x):\n",
    "    for i in range(len(nums)):\n",
    "        for j in range(i + 1, len(nums)):\n",
    "            if nums[i] + nums[j] == 1:\n",
    "                return nums[i], nums[j]\n",
    "    return 0, 0"
   ]
  },
  {
   "cell_type": "markdown",
   "id": "be9668a0",
   "metadata": {},
   "source": [
    "решение за O(N^2) - плохая сложность"
   ]
  },
  {
   "cell_type": "code",
   "execution_count": 15,
   "id": "ce20abb1",
   "metadata": {},
   "outputs": [
    {
     "data": {
      "text/plain": [
       "(0, 0)"
      ]
     },
     "execution_count": 15,
     "metadata": {},
     "output_type": "execute_result"
    }
   ],
   "source": [
    "nums = 1, 2, 3, 4, 5, 6, 7, 8, 9, 10\n",
    "x = 7\n",
    "\n",
    "twotermswithsumx(nums, x)"
   ]
  },
  {
   "cell_type": "markdown",
   "id": "74822b58",
   "metadata": {},
   "source": [
    "Решение за O(N)"
   ]
  },
  {
   "cell_type": "code",
   "execution_count": 17,
   "id": "da70d59b",
   "metadata": {},
   "outputs": [],
   "source": [
    "def twotermswithsumx(nums, x):\n",
    "    prevnums = set()\n",
    "    for nownum in nums:\n",
    "        if x - nownum in prevnums:\n",
    "            return nownum, x - nownum\n",
    "        prevnums.add(nownum)\n",
    "    return 0, 0"
   ]
  },
  {
   "cell_type": "code",
   "execution_count": 19,
   "id": "0b35509d",
   "metadata": {},
   "outputs": [
    {
     "data": {
      "text/plain": [
       "(4, 3)"
      ]
     },
     "execution_count": 19,
     "metadata": {},
     "output_type": "execute_result"
    }
   ],
   "source": [
    "nums = 1, 2, 3, 4, 5, 6, 7, 8, 9, 10\n",
    "x = 7\n",
    "\n",
    "twotermswithsumx(nums, x)"
   ]
  },
  {
   "cell_type": "markdown",
   "id": "57d1f9ec",
   "metadata": {},
   "source": [
    "есть строка чисел. найдите число различных"
   ]
  },
  {
   "cell_type": "code",
   "execution_count": 24,
   "id": "583b2f3d",
   "metadata": {},
   "outputs": [],
   "source": [
    "def findx(list1, list2):\n",
    "    for i in range(len(list1)):\n",
    "        if list1[i] in list2:\n",
    "            return list1[i]\n",
    "        return 'no'"
   ]
  },
  {
   "cell_type": "code",
   "execution_count": 26,
   "id": "143a527e",
   "metadata": {},
   "outputs": [
    {
     "data": {
      "text/plain": [
       "'no'"
      ]
     },
     "execution_count": 26,
     "metadata": {},
     "output_type": "execute_result"
    }
   ],
   "source": [
    "list1 = [1, 3, 2]\n",
    "list2 = [4, 3, 2]\n",
    "findx(list1, list2)"
   ]
  },
  {
   "cell_type": "code",
   "execution_count": 1,
   "id": "c5c36561",
   "metadata": {},
   "outputs": [],
   "source": [
    "def wordsindict(dictionary, text):\n",
    "    goodwords = set(dictionary)\n",
    "    for word in dictionary:\n",
    "        for delpos in range(len(word)):\n",
    "            goodwords.add(word[:delpos] + word[delpos + 1:])\n",
    "    ans = []\n",
    "    for word in text:\n",
    "        ans.append(word in goodwords)\n",
    "    return ans"
   ]
  },
  {
   "cell_type": "code",
   "execution_count": 12,
   "id": "b73700a3",
   "metadata": {},
   "outputs": [
    {
     "name": "stdout",
     "output_type": "stream",
     "text": [
      "123\n",
      "345\n"
     ]
    }
   ],
   "source": [
    "A = sorted(list(set([int(s) for s in input().split()]) & set([int(s) for s in input().split()])))\n",
    "for elem in A:\n",
    "    print(elem, end=' ')"
   ]
  },
  {
   "cell_type": "code",
   "execution_count": null,
   "id": "ffabecea",
   "metadata": {},
   "outputs": [],
   "source": []
  },
  {
   "cell_type": "code",
   "execution_count": null,
   "id": "4b7737ec",
   "metadata": {},
   "outputs": [],
   "source": []
  }
 ],
 "metadata": {
  "kernelspec": {
   "display_name": "Python 3",
   "language": "python",
   "name": "python3"
  },
  "language_info": {
   "codemirror_mode": {
    "name": "ipython",
    "version": 3
   },
   "file_extension": ".py",
   "mimetype": "text/x-python",
   "name": "python",
   "nbconvert_exporter": "python",
   "pygments_lexer": "ipython3",
   "version": "3.8.8"
  }
 },
 "nbformat": 4,
 "nbformat_minor": 5
}
