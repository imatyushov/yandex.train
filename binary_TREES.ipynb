{
  "nbformat": 4,
  "nbformat_minor": 0,
  "metadata": {
    "colab": {
      "name": "binary_TREES.ipynb",
      "provenance": [],
      "authorship_tag": "ABX9TyMVhzDDj64VGLVZTZYChxG2",
      "include_colab_link": true
    },
    "kernelspec": {
      "name": "python3",
      "display_name": "Python 3"
    },
    "language_info": {
      "name": "python"
    }
  },
  "cells": [
    {
      "cell_type": "markdown",
      "metadata": {
        "id": "view-in-github",
        "colab_type": "text"
      },
      "source": [
        "<a href=\"https://colab.research.google.com/github/imatyushov/yandex.train/blob/master/binary_TREES.ipynb\" target=\"_parent\"><img src=\"https://colab.research.google.com/assets/colab-badge.svg\" alt=\"Open In Colab\"/></a>"
      ]
    },
    {
      "cell_type": "markdown",
      "source": [
        "Собственный менеджер памяти"
      ],
      "metadata": {
        "id": "QGVvMfjHLBkA"
      }
    },
    {
      "cell_type": "code",
      "source": [
        "def initmemory(maxn):\n",
        "  memory = []\n",
        "  for i in range(maxn):\n",
        "    memory.append([0, i + 1, 0])\n",
        "    return [memory, 0]\n",
        "\n",
        "def newnode(memstruct):\n",
        "  memory, firstfree = memstruct \n",
        "  memstruct[1] = memory[firstfree][1]\n",
        "  return firstfree\n",
        "\n",
        "def delnode(memstruct, index):\n",
        "  memory, firstfree = memstruct \n",
        "  memory[index][1] = firstfree\n",
        "  memstruct[1] = index \n",
        "\n"
      ],
      "metadata": {
        "id": "lZJMQ1POLFY1"
      },
      "execution_count": 10,
      "outputs": []
    },
    {
      "cell_type": "code",
      "source": [
        "initmemory(20)"
      ],
      "metadata": {
        "colab": {
          "base_uri": "https://localhost:8080/"
        },
        "id": "7zCtz97UNrKa",
        "outputId": "cdad655c-361b-4844-a822-3f4415f48838"
      },
      "execution_count": 3,
      "outputs": [
        {
          "output_type": "execute_result",
          "data": {
            "text/plain": [
              "[[[0, 1, 0]], 0]"
            ]
          },
          "metadata": {},
          "execution_count": 3
        }
      ]
    },
    {
      "cell_type": "markdown",
      "source": [
        "Дерево в питоне можно задать списком:\n",
        "\n",
        "[root, left_tree, right_tree]"
      ],
      "metadata": {
        "id": "jQZMJlLl94bu"
      }
    },
    {
      "cell_type": "code",
      "source": [
        "tree = [5 , 2, None, [3, None, None], [7, None , [8, None, None]] ]\n",
        "tree"
      ],
      "metadata": {
        "colab": {
          "base_uri": "https://localhost:8080/"
        },
        "id": "e7rOP_X89qF_",
        "outputId": "cd085c8a-6129-48ad-ad85-9f35308aae49"
      },
      "execution_count": 5,
      "outputs": [
        {
          "output_type": "execute_result",
          "data": {
            "text/plain": [
              "[5, 2, None, [3, None, None], [7, None, [8, None, None]]]"
            ]
          },
          "metadata": {},
          "execution_count": 5
        }
      ]
    },
    {
      "cell_type": "code",
      "source": [
        "def find(memstruct, root , x):\n",
        "  key = memstruct[0]root[0]\n",
        "  if x == key:\n",
        "    return root\n",
        "  elif x < key:\n",
        "    left = memstruct[0]root[1]\n",
        "    if left == -1:\n",
        "      return -1 \n",
        "      else:\n",
        "        return find(memstruct, left, x)\n",
        "  elif x > key:\n",
        "    right = memstruct[0]root[2]\n",
        "    if right == -1:\n",
        "      return -1 \n",
        "    else:\n",
        "      return find(memstruct, right, x)"
      ],
      "metadata": {
        "id": "2jrNYk3YPpYY"
      },
      "execution_count": 9,
      "outputs": []
    },
    {
      "cell_type": "markdown",
      "source": [
        "Алгоритм Хаффмана\n",
        "по сериализованной записи восстановить код листьев\n",
        "\n",
        "'d' - в наиболее левого из непосещенных детей \n",
        "\n",
        "'u' - идем вверх пока приходим из правого ребенк, как только в вершину пришли из левого, сразу переходим  в правого"
      ],
      "metadata": {
        "id": "n9pCya76NL_b"
      }
    },
    {
      "cell_type": "code",
      "source": [
        "def maketree(serialized):\n",
        "  tree = {'left': None, 'right': None, 'up': None, 'type': 'root'}\n",
        "  nownode = tree \n",
        "  for sym in serialized:\n",
        "    if sym == 'D':\n",
        "      newnode = {'left': None, 'right': None, 'up': nownode, 'type': 'left'}\n",
        "      nownode['left'] = newnode\n",
        "      nownode = newnode \n",
        "    elif sym == 'U':\n",
        "      while nownode['type'] == 'right':\n",
        "        nownode = nodwnode['up']\n",
        "        newnode = {'left': None, 'right': None, 'up': nownode, 'type':'right'}\n",
        "        nownode['right'] = newnode\n",
        "        nownode = newnode\n",
        "  return tree\n",
        "\n",
        "def traverse(root, prefix):\n",
        "  if root['left'] is None and root['right'] is None:\n",
        "    return [''.join(prefix)]\n",
        "    prefix.append('0')\n",
        "    ans = traverse(root['left'], prefix)\n",
        "    prefix.pop()\n",
        "    prefix.append('1')\n",
        "    ans.extend(traverse(root['right'], prefix))\n",
        "    prefix.pop()\n",
        "    return ans"
      ],
      "metadata": {
        "id": "H1qF0EgrAbBP"
      },
      "execution_count": 8,
      "outputs": []
    },
    {
      "cell_type": "code",
      "source": [
        ""
      ],
      "metadata": {
        "id": "jndeC_dbLJuj"
      },
      "execution_count": null,
      "outputs": []
    }
  ]
}