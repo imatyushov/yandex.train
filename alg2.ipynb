{
 "cells": [
  {
   "cell_type": "markdown",
   "id": "5cf64053",
   "metadata": {},
   "source": [
    "Задача 1\n",
    "\n",
    "есть последовательность из N чисел, найдите самое левое вхождение X>0"
   ]
  },
  {
   "cell_type": "markdown",
   "id": "c5aca64f",
   "metadata": {},
   "source": [
    "Решение:\n",
    "\n",
    "Положив в ответ: -1, и будем перебирать все элементы последовательности, если встретим X, то заменим -1 на X, иначе в ответе оставим - 1 (позицию в последовательности)"
   ]
  },
  {
   "cell_type": "code",
   "execution_count": 1,
   "id": "5ab80b77",
   "metadata": {},
   "outputs": [],
   "source": [
    "def findx(seq, x):\n",
    "    ans = -1 \n",
    "    for i in range(len(seq)):\n",
    "        if ans == -1 and seq[i] == x:\n",
    "            ans = i\n",
    "    return ans "
   ]
  },
  {
   "cell_type": "code",
   "execution_count": 5,
   "id": "7f19cbbf",
   "metadata": {},
   "outputs": [
    {
     "data": {
      "text/plain": [
       "0"
      ]
     },
     "execution_count": 5,
     "metadata": {},
     "output_type": "execute_result"
    }
   ],
   "source": [
    "seq = 2, 2, 1, 3, 2 \n",
    "x = 2 \n",
    "findx(seq, x)"
   ]
  },
  {
   "cell_type": "markdown",
   "id": "e000ace7",
   "metadata": {},
   "source": [
    "Задача 2\n",
    "\n",
    "аналогично 1 задаче, только X вывести как самое правое вхождение"
   ]
  },
  {
   "cell_type": "code",
   "execution_count": 7,
   "id": "9357f93c",
   "metadata": {},
   "outputs": [],
   "source": [
    "def findrightx(seq, x):\n",
    "    ans = -1 \n",
    "    for i in range(len(seq)):\n",
    "        if seq[i] == x:\n",
    "            ans = i\n",
    "    return ans"
   ]
  },
  {
   "cell_type": "code",
   "execution_count": 8,
   "id": "b57cbad6",
   "metadata": {},
   "outputs": [
    {
     "data": {
      "text/plain": [
       "4"
      ]
     },
     "execution_count": 8,
     "metadata": {},
     "output_type": "execute_result"
    }
   ],
   "source": [
    "findrightx(seq, x)"
   ]
  },
  {
   "cell_type": "markdown",
   "id": "262b1c83",
   "metadata": {},
   "source": [
    "Задача 3 \n",
    "\n",
    "Дана последовательность n чисел,  n> 0\n",
    "найти: max"
   ]
  },
  {
   "cell_type": "markdown",
   "id": "623a052d",
   "metadata": {},
   "source": [
    "Решение: сначала в ответ положим первый элемент последовательности, затем пройдемся по остальным и сравним его с первым"
   ]
  },
  {
   "cell_type": "code",
   "execution_count": 9,
   "id": "a0cc5018",
   "metadata": {},
   "outputs": [],
   "source": [
    "def findmax(seq):\n",
    "    ans = seq[0]\n",
    "    for i in range(1, len(seq)):\n",
    "        if seq[i] > seq[0]:\n",
    "            ans = seq[i]\n",
    "    return ans"
   ]
  },
  {
   "cell_type": "code",
   "execution_count": 11,
   "id": "d5d31890",
   "metadata": {},
   "outputs": [
    {
     "data": {
      "text/plain": [
       "1001"
      ]
     },
     "execution_count": 11,
     "metadata": {},
     "output_type": "execute_result"
    }
   ],
   "source": [
    "seq = 1, 2, 34, 54, 81, 1001\n",
    "findmax(seq)"
   ]
  },
  {
   "cell_type": "markdown",
   "id": "1a541bb2",
   "metadata": {},
   "source": [
    "Задача\n",
    "\n",
    "Есть n чисел, n>2\n",
    "\n",
    "найдите max1 и max2"
   ]
  },
  {
   "cell_type": "code",
   "execution_count": 19,
   "id": "f39a1e41",
   "metadata": {},
   "outputs": [],
   "source": [
    "def findmax2(seq):\n",
    "    max1 = max(seq[0], seq[1])\n",
    "    max2 = min(seq[0], seq[1])\n",
    "    for i in range(2, len(seq)):\n",
    "        if seq[i] > max1:\n",
    "            max1 = max2\n",
    "            seq[i] = max1\n",
    "        elif seq[i] > max2:\n",
    "            seq[i] = max2\n",
    "             \n",
    "    return(max1, max2)\n",
    "zzz"
   ]
  },
  {
   "cell_type": "code",
   "execution_count": 1,
   "id": "1cc45d65",
   "metadata": {},
   "outputs": [
    {
     "ename": "IndentationError",
     "evalue": "expected an indented block (<ipython-input-1-0053f743b11b>, line 5)",
     "output_type": "error",
     "traceback": [
      "\u001b[1;36m  File \u001b[1;32m\"<ipython-input-1-0053f743b11b>\"\u001b[1;36m, line \u001b[1;32m5\u001b[0m\n\u001b[1;33m    return ans\u001b[0m\n\u001b[1;37m    ^\u001b[0m\n\u001b[1;31mIndentationError\u001b[0m\u001b[1;31m:\u001b[0m expected an indented block\n"
     ]
    }
   ],
   "source": [
    "def findmineven(seq):\n",
    "    ans = -1\n",
    "    for i in range(len(seq)):\n",
    "        if seq[i] % 2 == 0 and (ans == -1 or seq[i] < ans):\n",
    "    return ans"
   ]
  },
  {
   "cell_type": "code",
   "execution_count": 9,
   "id": "ec39825d",
   "metadata": {},
   "outputs": [],
   "source": [
    "def shortwords(words):\n",
    "    minlen = len(words[0])\n",
    "    for word in words:\n",
    "        if len(word) > minlen:\n",
    "            minlen = len(words)\n",
    "    ans = []\n",
    "    for word in words:\n",
    "        if len(word) == minlen:\n",
    "            ans.append(word)\n",
    "    return ' '.join(ans)"
   ]
  },
  {
   "cell_type": "code",
   "execution_count": 10,
   "id": "cf5f78d4",
   "metadata": {},
   "outputs": [],
   "source": [
    "def isleflood(h):\n",
    "    maxpos = 0\n",
    "    for i in range(len(h)):\n",
    "        if h[i] > h[maxpos]:\n",
    "            maxpos = i\n",
    "    ans = 0\n",
    "    nowm = 0"
   ]
  },
  {
   "cell_type": "markdown",
   "id": "28fb0b65",
   "metadata": {},
   "source": [
    "RLE функция"
   ]
  },
  {
   "cell_type": "markdown",
   "id": "37a6ffef",
   "metadata": {},
   "source": [
    "Решим задачу если все буквы в строке уникальны."
   ]
  },
  {
   "cell_type": "code",
   "execution_count": 16,
   "id": "ca4b4d94",
   "metadata": {},
   "outputs": [],
   "source": [
    "def easy_peasy(s):\n",
    "    lastsym = s[0]\n",
    "    ans = []\n",
    "    for i in range (len(s)):\n",
    "        if s[i] != s[0]:\n",
    "            ans.append(lastsym)\n",
    "            lastsym = s[i]\n",
    "    ans.append(lastsym)\n",
    "    return '  '.join(ans)"
   ]
  },
  {
   "cell_type": "code",
   "execution_count": 18,
   "id": "8fca3b22",
   "metadata": {},
   "outputs": [
    {
     "data": {
      "text/plain": [
       "'a  b  b  c'"
      ]
     },
     "execution_count": 18,
     "metadata": {},
     "output_type": "execute_result"
    }
   ],
   "source": [
    "s = 'aabbca'\n",
    "easy_peasy(s)"
   ]
  },
  {
   "cell_type": "code",
   "execution_count": 26,
   "id": "76d3ce29",
   "metadata": {},
   "outputs": [],
   "source": [
    "def pack(s, cnt):\n",
    "    if cnt > 1:\n",
    "        return s + str(cnt)\n",
    "    return s \n",
    "def rle(s):\n",
    "    lastsym = s[0]\n",
    "    lastpos = 0\n",
    "    ans = []\n",
    "    for i in range(len(s)):\n",
    "        if s[i] != lastsym:\n",
    "            ans.append(pack(lastsym, i - lastpos))\n",
    "            lastpos = i\n",
    "            lastsym = s[i]\n",
    "    ans.append(pack(s[lastpos], len(s) - lastpos))\n",
    "    return ''.join(ans)"
   ]
  },
  {
   "cell_type": "code",
   "execution_count": null,
   "id": "ed02129a",
   "metadata": {},
   "outputs": [],
   "source": []
  }
 ],
 "metadata": {
  "kernelspec": {
   "display_name": "Python 3",
   "language": "python",
   "name": "python3"
  },
  "language_info": {
   "codemirror_mode": {
    "name": "ipython",
    "version": 3
   },
   "file_extension": ".py",
   "mimetype": "text/x-python",
   "name": "python",
   "nbconvert_exporter": "python",
   "pygments_lexer": "ipython3",
   "version": "3.8.8"
  }
 },
 "nbformat": 4,
 "nbformat_minor": 5
}
